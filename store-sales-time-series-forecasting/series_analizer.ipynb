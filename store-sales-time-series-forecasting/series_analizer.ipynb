{
 "cells": [
  {
   "cell_type": "markdown",
   "metadata": {},
   "source": [
    "# Store Sales - Time Series Forecasting\n",
    "\n",
    "Use machine learning to predict grocery sales [dataset - link](https://www.kaggle.com/competitions/store-sales-time-series-forecasting)"
   ]
  },
  {
   "cell_type": "markdown",
   "metadata": {},
   "source": [
    "The training data, comprising time series of features `store_nbr`, `family`, and `onpromotion` as well as the target `sales`.\n",
    "- `store_nbr` identifies the store at which the products are sold.\n",
    "- `family` identifies the type of product sold.\n",
    "- `sales` gives the total sales for a product family at a particular store at a given date. Fractional values are possible since products can be sold in fractional units (1.5 kg of cheese, for instance, as opposed to 1 bag of chips).\n",
    "- `onpromotion` gives the total number of items in a product family that were being promoted at a store at a given date.\n"
   ]
  },
  {
   "cell_type": "code",
   "execution_count": 60,
   "metadata": {},
   "outputs": [],
   "source": [
    "# Import of packages\n",
    "import duckdb\n",
    "import warnings\n",
    "import numpy as np\n",
    "import pandas as pd\n",
    "import plotly.express as px\n",
    "import matplotlib.pyplot as plt\n",
    "warnings.filterwarnings(\"ignore\")\n",
    "from statsforecast import StatsForecast\n",
    "from statsforecast.models import AutoETS"
   ]
  },
  {
   "cell_type": "code",
   "execution_count": 61,
   "metadata": {},
   "outputs": [
    {
     "data": {
      "text/plain": [
       "<duckdb.duckdb.DuckDBPyConnection at 0x282ac43bc30>"
      ]
     },
     "execution_count": 61,
     "metadata": {},
     "output_type": "execute_result"
    }
   ],
   "source": [
    "# Reading .csv files via DuckDB will facilitate and optimize time series searching and extraction\n",
    "con = duckdb.connect(database=':memory:', read_only=False)\n",
    "con.execute(\"CREATE TABLE train AS SELECT * FROM read_csv('./train.csv')\")"
   ]
  },
  {
   "cell_type": "code",
   "execution_count": 62,
   "metadata": {},
   "outputs": [],
   "source": [
    "# Variables of interest\n",
    "labelx, labely= 'date','sales'"
   ]
  },
  {
   "cell_type": "markdown",
   "metadata": {},
   "source": [
    "Analyzing the training data, it is possible to see that we have 54 stores and each store has 33 products or types of products sold by them, as sales are daily\n",
    "and even when there are no sales, the series is registered, we have at least 1782 distinct temporary series, as the records go from 01/01/2013 to 08/15/2017, we would have\n",
    "1782*1687(days), the training file would have around 3006234 which is close to the real value of 3000888 lines in the set."
   ]
  },
  {
   "cell_type": "code",
   "execution_count": 63,
   "metadata": {},
   "outputs": [
    {
     "name": "stdout",
     "output_type": "stream",
     "text": [
      "Number of records: 3000888\n"
     ]
    }
   ],
   "source": [
    "data = con.execute('SELECT * FROM train')\n",
    "dataframe = data.fetch_df()\n",
    "print(f\"Number of records: {len(dataframe[labelx])}\")"
   ]
  },
  {
   "cell_type": "code",
   "execution_count": 64,
   "metadata": {},
   "outputs": [],
   "source": [
    "# This function will extract the individual series using the store and product type columns\n",
    "def extract_series(col1, col2):\n",
    "    sql_query = f\"SELECT * FROM train WHERE store_nbr = '{col1}' AND family='{col2}'\"\n",
    "    serie_tmp =  con.execute(sql_query)\n",
    "    df_tmp = serie_tmp.fetch_df()\n",
    "    df_tmp['date'] = pd.to_datetime(df_tmp['date'])\n",
    "    return df_tmp.sort_values(by='date')"
   ]
  },
  {
   "cell_type": "code",
   "execution_count": 65,
   "metadata": {},
   "outputs": [
    {
     "data": {
      "text/html": [
       "<div>\n",
       "<style scoped>\n",
       "    .dataframe tbody tr th:only-of-type {\n",
       "        vertical-align: middle;\n",
       "    }\n",
       "\n",
       "    .dataframe tbody tr th {\n",
       "        vertical-align: top;\n",
       "    }\n",
       "\n",
       "    .dataframe thead th {\n",
       "        text-align: right;\n",
       "    }\n",
       "</style>\n",
       "<table border=\"1\" class=\"dataframe\">\n",
       "  <thead>\n",
       "    <tr style=\"text-align: right;\">\n",
       "      <th></th>\n",
       "      <th>id</th>\n",
       "      <th>date</th>\n",
       "      <th>store_nbr</th>\n",
       "      <th>family</th>\n",
       "      <th>sales</th>\n",
       "      <th>onpromotion</th>\n",
       "    </tr>\n",
       "  </thead>\n",
       "  <tbody>\n",
       "    <tr>\n",
       "      <th>0</th>\n",
       "      <td>98</td>\n",
       "      <td>2013-01-01</td>\n",
       "      <td>11</td>\n",
       "      <td>SEAFOOD</td>\n",
       "      <td>0.0</td>\n",
       "      <td>0</td>\n",
       "    </tr>\n",
       "    <tr>\n",
       "      <th>1</th>\n",
       "      <td>1880</td>\n",
       "      <td>2013-01-02</td>\n",
       "      <td>11</td>\n",
       "      <td>SEAFOOD</td>\n",
       "      <td>5.0</td>\n",
       "      <td>0</td>\n",
       "    </tr>\n",
       "    <tr>\n",
       "      <th>2</th>\n",
       "      <td>3662</td>\n",
       "      <td>2013-01-03</td>\n",
       "      <td>11</td>\n",
       "      <td>SEAFOOD</td>\n",
       "      <td>12.0</td>\n",
       "      <td>0</td>\n",
       "    </tr>\n",
       "    <tr>\n",
       "      <th>3</th>\n",
       "      <td>5444</td>\n",
       "      <td>2013-01-04</td>\n",
       "      <td>11</td>\n",
       "      <td>SEAFOOD</td>\n",
       "      <td>2.0</td>\n",
       "      <td>0</td>\n",
       "    </tr>\n",
       "    <tr>\n",
       "      <th>4</th>\n",
       "      <td>7226</td>\n",
       "      <td>2013-01-05</td>\n",
       "      <td>11</td>\n",
       "      <td>SEAFOOD</td>\n",
       "      <td>3.0</td>\n",
       "      <td>0</td>\n",
       "    </tr>\n",
       "    <tr>\n",
       "      <th>...</th>\n",
       "      <td>...</td>\n",
       "      <td>...</td>\n",
       "      <td>...</td>\n",
       "      <td>...</td>\n",
       "      <td>...</td>\n",
       "      <td>...</td>\n",
       "    </tr>\n",
       "    <tr>\n",
       "      <th>1679</th>\n",
       "      <td>2992076</td>\n",
       "      <td>2017-08-11</td>\n",
       "      <td>11</td>\n",
       "      <td>SEAFOOD</td>\n",
       "      <td>10.0</td>\n",
       "      <td>0</td>\n",
       "    </tr>\n",
       "    <tr>\n",
       "      <th>1680</th>\n",
       "      <td>2993858</td>\n",
       "      <td>2017-08-12</td>\n",
       "      <td>11</td>\n",
       "      <td>SEAFOOD</td>\n",
       "      <td>9.0</td>\n",
       "      <td>3</td>\n",
       "    </tr>\n",
       "    <tr>\n",
       "      <th>1681</th>\n",
       "      <td>2995640</td>\n",
       "      <td>2017-08-13</td>\n",
       "      <td>11</td>\n",
       "      <td>SEAFOOD</td>\n",
       "      <td>10.0</td>\n",
       "      <td>0</td>\n",
       "    </tr>\n",
       "    <tr>\n",
       "      <th>1682</th>\n",
       "      <td>2997422</td>\n",
       "      <td>2017-08-14</td>\n",
       "      <td>11</td>\n",
       "      <td>SEAFOOD</td>\n",
       "      <td>3.0</td>\n",
       "      <td>0</td>\n",
       "    </tr>\n",
       "    <tr>\n",
       "      <th>1683</th>\n",
       "      <td>2999204</td>\n",
       "      <td>2017-08-15</td>\n",
       "      <td>11</td>\n",
       "      <td>SEAFOOD</td>\n",
       "      <td>3.0</td>\n",
       "      <td>0</td>\n",
       "    </tr>\n",
       "  </tbody>\n",
       "</table>\n",
       "<p>1684 rows × 6 columns</p>\n",
       "</div>"
      ],
      "text/plain": [
       "           id       date  store_nbr   family  sales  onpromotion\n",
       "0          98 2013-01-01         11  SEAFOOD    0.0            0\n",
       "1        1880 2013-01-02         11  SEAFOOD    5.0            0\n",
       "2        3662 2013-01-03         11  SEAFOOD   12.0            0\n",
       "3        5444 2013-01-04         11  SEAFOOD    2.0            0\n",
       "4        7226 2013-01-05         11  SEAFOOD    3.0            0\n",
       "...       ...        ...        ...      ...    ...          ...\n",
       "1679  2992076 2017-08-11         11  SEAFOOD   10.0            0\n",
       "1680  2993858 2017-08-12         11  SEAFOOD    9.0            3\n",
       "1681  2995640 2017-08-13         11  SEAFOOD   10.0            0\n",
       "1682  2997422 2017-08-14         11  SEAFOOD    3.0            0\n",
       "1683  2999204 2017-08-15         11  SEAFOOD    3.0            0\n",
       "\n",
       "[1684 rows x 6 columns]"
      ]
     },
     "execution_count": 65,
     "metadata": {},
     "output_type": "execute_result"
    }
   ],
   "source": [
    "# Example of the store 11 series and the SEAFOOD product\n",
    "serie =  extract_series(11, 'SEAFOOD')\n",
    "serie"
   ]
  },
  {
   "cell_type": "code",
   "execution_count": 66,
   "metadata": {},
   "outputs": [],
   "source": [
    "# This function extracts the series from month 08 of each available year, uses the part from month 08 to 15 to model the behavior of the series and returns a graph if the graph argument is true, and returns a series combined by the average of the last year and modeling as prediction\n",
    "def predict_plot_series_year(data, plot=False):\n",
    "    start_date_2013 = pd.to_datetime('2013-08-01')\n",
    "    end_date_2013  = pd.to_datetime('2013-08-31')\n",
    "    start_date_2014 = pd.to_datetime('2014-08-01')\n",
    "    end_date_2014  = pd.to_datetime('2014-08-31')\n",
    "    start_date_2015 = pd.to_datetime('2015-08-01')\n",
    "    end_date_2015  = pd.to_datetime('2015-08-31')\n",
    "    start_date_2016 = pd.to_datetime('2016-08-01')\n",
    "    end_date_2016  = pd.to_datetime('2016-08-31')\n",
    "    start_date_2017d = pd.to_datetime('2017-05-01')\n",
    "    start_date_2017 = pd.to_datetime('2017-08-01')\n",
    "    end_date_2017  = pd.to_datetime('2017-08-15')\n",
    "\n",
    "    serie_2013 =  data[(data['date'].between(start_date_2013, end_date_2013))]['sales']\n",
    "    serie_2014 =  data[(data['date'].between(start_date_2014, end_date_2014))]['sales']\n",
    "    serie_2015 =  data[(data['date'].between(start_date_2015, end_date_2015))]['sales']\n",
    "    serie_2016 =  data[(data['date'].between(start_date_2016, end_date_2016))]['sales']\n",
    "    serie_2017 =  data[(data['date'].between(start_date_2017, end_date_2017))]['sales']\n",
    "    serie_2017D =  data[(data['date'].between(start_date_2017d, end_date_2017))]\n",
    "    \n",
    "\n",
    "    train = pd.DataFrame({'ds': serie_2017D['date'], 'y': serie_2017D['sales'], 'unique_id': serie_2017D['family']})\n",
    "    model = StatsForecast(models=[AutoETS(season_length=7)], freq='D', n_jobs=-1)\n",
    "    model.fit(train)\n",
    "    predictions = model.predict(h=16)\n",
    "\n",
    "    zeros_2017 = pd.Series([float(0)] * 16)\n",
    "    nan_values = pd.Series([float('NaN')] * 16)\n",
    "    serie_2017p = pd.concat([serie_2017, pd.Series(predictions['AutoETS'].values)])\n",
    "    serie_2017 = pd.concat([serie_2017, nan_values])\n",
    "    Mean = serie_2017p.values\n",
    "    if plot:\n",
    "        index = [i for i in range(1, len(serie_2013) + 1)] \n",
    "        serie = pd.DataFrame({\n",
    "        'Index': index,\n",
    "        'Série 2016': serie_2016.values,\n",
    "        'serie ETS' : serie_2017p.values,\n",
    "        'Série 2017': serie_2017.values,\n",
    "        'ETS + 2016': Mean\n",
    "        })\n",
    "\n",
    "        fig = px.line(serie, x='Index', y=list(serie.drop('Index', axis=1).columns))\n",
    "        fig.show()\n",
    "    \n",
    "    return np.round(Mean[-16:], 3)"
   ]
  },
  {
   "cell_type": "code",
   "execution_count": 67,
   "metadata": {},
   "outputs": [
    {
     "data": {
      "application/vnd.plotly.v1+json": {
       "config": {
        "plotlyServerURL": "https://plot.ly"
       },
       "data": [
        {
         "hovertemplate": "variable=Série 2016<br>Index=%{x}<br>value=%{y}<extra></extra>",
         "legendgroup": "Série 2016",
         "line": {
          "color": "#636efa",
          "dash": "solid"
         },
         "marker": {
          "symbol": "circle"
         },
         "mode": "lines",
         "name": "Série 2016",
         "orientation": "v",
         "showlegend": true,
         "type": "scatter",
         "x": [
          1,
          2,
          3,
          4,
          5,
          6,
          7,
          8,
          9,
          10,
          11,
          12,
          13,
          14,
          15,
          16,
          17,
          18,
          19,
          20,
          21,
          22,
          23,
          24,
          25,
          26,
          27,
          28,
          29,
          30,
          31
         ],
         "xaxis": "x",
         "y": [
          31,
          2,
          0,
          17,
          11,
          5,
          12,
          17,
          10,
          7,
          9,
          6,
          29,
          7,
          9,
          14,
          14,
          6,
          3,
          13,
          9,
          22,
          7,
          7,
          3,
          6,
          16,
          7,
          6,
          5,
          9
         ],
         "yaxis": "y"
        },
        {
         "hovertemplate": "variable=serie ETS<br>Index=%{x}<br>value=%{y}<extra></extra>",
         "legendgroup": "serie ETS",
         "line": {
          "color": "#EF553B",
          "dash": "solid"
         },
         "marker": {
          "symbol": "circle"
         },
         "mode": "lines",
         "name": "serie ETS",
         "orientation": "v",
         "showlegend": true,
         "type": "scatter",
         "x": [
          1,
          2,
          3,
          4,
          5,
          6,
          7,
          8,
          9,
          10,
          11,
          12,
          13,
          14,
          15,
          16,
          17,
          18,
          19,
          20,
          21,
          22,
          23,
          24,
          25,
          26,
          27,
          28,
          29,
          30,
          31
         ],
         "xaxis": "x",
         "y": [
          8,
          18,
          8,
          6,
          17,
          13,
          9,
          30,
          13,
          8,
          10,
          9,
          10,
          3,
          3,
          9.998756408691406,
          7.493027687072754,
          6.12177848815918,
          13.456098556518555,
          16.547060012817383,
          9.0399169921875,
          9.278828620910645,
          9.998756408691406,
          7.493027687072754,
          6.12177848815918,
          13.456098556518555,
          16.547060012817383,
          9.0399169921875,
          9.278828620910645,
          9.998756408691406,
          7.493027687072754
         ],
         "yaxis": "y"
        },
        {
         "hovertemplate": "variable=Série 2017<br>Index=%{x}<br>value=%{y}<extra></extra>",
         "legendgroup": "Série 2017",
         "line": {
          "color": "#00cc96",
          "dash": "solid"
         },
         "marker": {
          "symbol": "circle"
         },
         "mode": "lines",
         "name": "Série 2017",
         "orientation": "v",
         "showlegend": true,
         "type": "scatter",
         "x": [
          1,
          2,
          3,
          4,
          5,
          6,
          7,
          8,
          9,
          10,
          11,
          12,
          13,
          14,
          15,
          16,
          17,
          18,
          19,
          20,
          21,
          22,
          23,
          24,
          25,
          26,
          27,
          28,
          29,
          30,
          31
         ],
         "xaxis": "x",
         "y": [
          8,
          18,
          8,
          6,
          17,
          13,
          9,
          30,
          13,
          8,
          10,
          9,
          10,
          3,
          3,
          null,
          null,
          null,
          null,
          null,
          null,
          null,
          null,
          null,
          null,
          null,
          null,
          null,
          null,
          null,
          null
         ],
         "yaxis": "y"
        },
        {
         "hovertemplate": "variable=ETS + 2016<br>Index=%{x}<br>value=%{y}<extra></extra>",
         "legendgroup": "ETS + 2016",
         "line": {
          "color": "#ab63fa",
          "dash": "solid"
         },
         "marker": {
          "symbol": "circle"
         },
         "mode": "lines",
         "name": "ETS + 2016",
         "orientation": "v",
         "showlegend": true,
         "type": "scatter",
         "x": [
          1,
          2,
          3,
          4,
          5,
          6,
          7,
          8,
          9,
          10,
          11,
          12,
          13,
          14,
          15,
          16,
          17,
          18,
          19,
          20,
          21,
          22,
          23,
          24,
          25,
          26,
          27,
          28,
          29,
          30,
          31
         ],
         "xaxis": "x",
         "y": [
          8,
          18,
          8,
          6,
          17,
          13,
          9,
          30,
          13,
          8,
          10,
          9,
          10,
          3,
          3,
          9.998756408691406,
          7.493027687072754,
          6.12177848815918,
          13.456098556518555,
          16.547060012817383,
          9.0399169921875,
          9.278828620910645,
          9.998756408691406,
          7.493027687072754,
          6.12177848815918,
          13.456098556518555,
          16.547060012817383,
          9.0399169921875,
          9.278828620910645,
          9.998756408691406,
          7.493027687072754
         ],
         "yaxis": "y"
        }
       ],
       "layout": {
        "legend": {
         "title": {
          "text": "variable"
         },
         "tracegroupgap": 0
        },
        "margin": {
         "t": 60
        },
        "template": {
         "data": {
          "bar": [
           {
            "error_x": {
             "color": "#2a3f5f"
            },
            "error_y": {
             "color": "#2a3f5f"
            },
            "marker": {
             "line": {
              "color": "#E5ECF6",
              "width": 0.5
             },
             "pattern": {
              "fillmode": "overlay",
              "size": 10,
              "solidity": 0.2
             }
            },
            "type": "bar"
           }
          ],
          "barpolar": [
           {
            "marker": {
             "line": {
              "color": "#E5ECF6",
              "width": 0.5
             },
             "pattern": {
              "fillmode": "overlay",
              "size": 10,
              "solidity": 0.2
             }
            },
            "type": "barpolar"
           }
          ],
          "carpet": [
           {
            "aaxis": {
             "endlinecolor": "#2a3f5f",
             "gridcolor": "white",
             "linecolor": "white",
             "minorgridcolor": "white",
             "startlinecolor": "#2a3f5f"
            },
            "baxis": {
             "endlinecolor": "#2a3f5f",
             "gridcolor": "white",
             "linecolor": "white",
             "minorgridcolor": "white",
             "startlinecolor": "#2a3f5f"
            },
            "type": "carpet"
           }
          ],
          "choropleth": [
           {
            "colorbar": {
             "outlinewidth": 0,
             "ticks": ""
            },
            "type": "choropleth"
           }
          ],
          "contour": [
           {
            "colorbar": {
             "outlinewidth": 0,
             "ticks": ""
            },
            "colorscale": [
             [
              0,
              "#0d0887"
             ],
             [
              0.1111111111111111,
              "#46039f"
             ],
             [
              0.2222222222222222,
              "#7201a8"
             ],
             [
              0.3333333333333333,
              "#9c179e"
             ],
             [
              0.4444444444444444,
              "#bd3786"
             ],
             [
              0.5555555555555556,
              "#d8576b"
             ],
             [
              0.6666666666666666,
              "#ed7953"
             ],
             [
              0.7777777777777778,
              "#fb9f3a"
             ],
             [
              0.8888888888888888,
              "#fdca26"
             ],
             [
              1,
              "#f0f921"
             ]
            ],
            "type": "contour"
           }
          ],
          "contourcarpet": [
           {
            "colorbar": {
             "outlinewidth": 0,
             "ticks": ""
            },
            "type": "contourcarpet"
           }
          ],
          "heatmap": [
           {
            "colorbar": {
             "outlinewidth": 0,
             "ticks": ""
            },
            "colorscale": [
             [
              0,
              "#0d0887"
             ],
             [
              0.1111111111111111,
              "#46039f"
             ],
             [
              0.2222222222222222,
              "#7201a8"
             ],
             [
              0.3333333333333333,
              "#9c179e"
             ],
             [
              0.4444444444444444,
              "#bd3786"
             ],
             [
              0.5555555555555556,
              "#d8576b"
             ],
             [
              0.6666666666666666,
              "#ed7953"
             ],
             [
              0.7777777777777778,
              "#fb9f3a"
             ],
             [
              0.8888888888888888,
              "#fdca26"
             ],
             [
              1,
              "#f0f921"
             ]
            ],
            "type": "heatmap"
           }
          ],
          "heatmapgl": [
           {
            "colorbar": {
             "outlinewidth": 0,
             "ticks": ""
            },
            "colorscale": [
             [
              0,
              "#0d0887"
             ],
             [
              0.1111111111111111,
              "#46039f"
             ],
             [
              0.2222222222222222,
              "#7201a8"
             ],
             [
              0.3333333333333333,
              "#9c179e"
             ],
             [
              0.4444444444444444,
              "#bd3786"
             ],
             [
              0.5555555555555556,
              "#d8576b"
             ],
             [
              0.6666666666666666,
              "#ed7953"
             ],
             [
              0.7777777777777778,
              "#fb9f3a"
             ],
             [
              0.8888888888888888,
              "#fdca26"
             ],
             [
              1,
              "#f0f921"
             ]
            ],
            "type": "heatmapgl"
           }
          ],
          "histogram": [
           {
            "marker": {
             "pattern": {
              "fillmode": "overlay",
              "size": 10,
              "solidity": 0.2
             }
            },
            "type": "histogram"
           }
          ],
          "histogram2d": [
           {
            "colorbar": {
             "outlinewidth": 0,
             "ticks": ""
            },
            "colorscale": [
             [
              0,
              "#0d0887"
             ],
             [
              0.1111111111111111,
              "#46039f"
             ],
             [
              0.2222222222222222,
              "#7201a8"
             ],
             [
              0.3333333333333333,
              "#9c179e"
             ],
             [
              0.4444444444444444,
              "#bd3786"
             ],
             [
              0.5555555555555556,
              "#d8576b"
             ],
             [
              0.6666666666666666,
              "#ed7953"
             ],
             [
              0.7777777777777778,
              "#fb9f3a"
             ],
             [
              0.8888888888888888,
              "#fdca26"
             ],
             [
              1,
              "#f0f921"
             ]
            ],
            "type": "histogram2d"
           }
          ],
          "histogram2dcontour": [
           {
            "colorbar": {
             "outlinewidth": 0,
             "ticks": ""
            },
            "colorscale": [
             [
              0,
              "#0d0887"
             ],
             [
              0.1111111111111111,
              "#46039f"
             ],
             [
              0.2222222222222222,
              "#7201a8"
             ],
             [
              0.3333333333333333,
              "#9c179e"
             ],
             [
              0.4444444444444444,
              "#bd3786"
             ],
             [
              0.5555555555555556,
              "#d8576b"
             ],
             [
              0.6666666666666666,
              "#ed7953"
             ],
             [
              0.7777777777777778,
              "#fb9f3a"
             ],
             [
              0.8888888888888888,
              "#fdca26"
             ],
             [
              1,
              "#f0f921"
             ]
            ],
            "type": "histogram2dcontour"
           }
          ],
          "mesh3d": [
           {
            "colorbar": {
             "outlinewidth": 0,
             "ticks": ""
            },
            "type": "mesh3d"
           }
          ],
          "parcoords": [
           {
            "line": {
             "colorbar": {
              "outlinewidth": 0,
              "ticks": ""
             }
            },
            "type": "parcoords"
           }
          ],
          "pie": [
           {
            "automargin": true,
            "type": "pie"
           }
          ],
          "scatter": [
           {
            "fillpattern": {
             "fillmode": "overlay",
             "size": 10,
             "solidity": 0.2
            },
            "type": "scatter"
           }
          ],
          "scatter3d": [
           {
            "line": {
             "colorbar": {
              "outlinewidth": 0,
              "ticks": ""
             }
            },
            "marker": {
             "colorbar": {
              "outlinewidth": 0,
              "ticks": ""
             }
            },
            "type": "scatter3d"
           }
          ],
          "scattercarpet": [
           {
            "marker": {
             "colorbar": {
              "outlinewidth": 0,
              "ticks": ""
             }
            },
            "type": "scattercarpet"
           }
          ],
          "scattergeo": [
           {
            "marker": {
             "colorbar": {
              "outlinewidth": 0,
              "ticks": ""
             }
            },
            "type": "scattergeo"
           }
          ],
          "scattergl": [
           {
            "marker": {
             "colorbar": {
              "outlinewidth": 0,
              "ticks": ""
             }
            },
            "type": "scattergl"
           }
          ],
          "scattermapbox": [
           {
            "marker": {
             "colorbar": {
              "outlinewidth": 0,
              "ticks": ""
             }
            },
            "type": "scattermapbox"
           }
          ],
          "scatterpolar": [
           {
            "marker": {
             "colorbar": {
              "outlinewidth": 0,
              "ticks": ""
             }
            },
            "type": "scatterpolar"
           }
          ],
          "scatterpolargl": [
           {
            "marker": {
             "colorbar": {
              "outlinewidth": 0,
              "ticks": ""
             }
            },
            "type": "scatterpolargl"
           }
          ],
          "scatterternary": [
           {
            "marker": {
             "colorbar": {
              "outlinewidth": 0,
              "ticks": ""
             }
            },
            "type": "scatterternary"
           }
          ],
          "surface": [
           {
            "colorbar": {
             "outlinewidth": 0,
             "ticks": ""
            },
            "colorscale": [
             [
              0,
              "#0d0887"
             ],
             [
              0.1111111111111111,
              "#46039f"
             ],
             [
              0.2222222222222222,
              "#7201a8"
             ],
             [
              0.3333333333333333,
              "#9c179e"
             ],
             [
              0.4444444444444444,
              "#bd3786"
             ],
             [
              0.5555555555555556,
              "#d8576b"
             ],
             [
              0.6666666666666666,
              "#ed7953"
             ],
             [
              0.7777777777777778,
              "#fb9f3a"
             ],
             [
              0.8888888888888888,
              "#fdca26"
             ],
             [
              1,
              "#f0f921"
             ]
            ],
            "type": "surface"
           }
          ],
          "table": [
           {
            "cells": {
             "fill": {
              "color": "#EBF0F8"
             },
             "line": {
              "color": "white"
             }
            },
            "header": {
             "fill": {
              "color": "#C8D4E3"
             },
             "line": {
              "color": "white"
             }
            },
            "type": "table"
           }
          ]
         },
         "layout": {
          "annotationdefaults": {
           "arrowcolor": "#2a3f5f",
           "arrowhead": 0,
           "arrowwidth": 1
          },
          "autotypenumbers": "strict",
          "coloraxis": {
           "colorbar": {
            "outlinewidth": 0,
            "ticks": ""
           }
          },
          "colorscale": {
           "diverging": [
            [
             0,
             "#8e0152"
            ],
            [
             0.1,
             "#c51b7d"
            ],
            [
             0.2,
             "#de77ae"
            ],
            [
             0.3,
             "#f1b6da"
            ],
            [
             0.4,
             "#fde0ef"
            ],
            [
             0.5,
             "#f7f7f7"
            ],
            [
             0.6,
             "#e6f5d0"
            ],
            [
             0.7,
             "#b8e186"
            ],
            [
             0.8,
             "#7fbc41"
            ],
            [
             0.9,
             "#4d9221"
            ],
            [
             1,
             "#276419"
            ]
           ],
           "sequential": [
            [
             0,
             "#0d0887"
            ],
            [
             0.1111111111111111,
             "#46039f"
            ],
            [
             0.2222222222222222,
             "#7201a8"
            ],
            [
             0.3333333333333333,
             "#9c179e"
            ],
            [
             0.4444444444444444,
             "#bd3786"
            ],
            [
             0.5555555555555556,
             "#d8576b"
            ],
            [
             0.6666666666666666,
             "#ed7953"
            ],
            [
             0.7777777777777778,
             "#fb9f3a"
            ],
            [
             0.8888888888888888,
             "#fdca26"
            ],
            [
             1,
             "#f0f921"
            ]
           ],
           "sequentialminus": [
            [
             0,
             "#0d0887"
            ],
            [
             0.1111111111111111,
             "#46039f"
            ],
            [
             0.2222222222222222,
             "#7201a8"
            ],
            [
             0.3333333333333333,
             "#9c179e"
            ],
            [
             0.4444444444444444,
             "#bd3786"
            ],
            [
             0.5555555555555556,
             "#d8576b"
            ],
            [
             0.6666666666666666,
             "#ed7953"
            ],
            [
             0.7777777777777778,
             "#fb9f3a"
            ],
            [
             0.8888888888888888,
             "#fdca26"
            ],
            [
             1,
             "#f0f921"
            ]
           ]
          },
          "colorway": [
           "#636efa",
           "#EF553B",
           "#00cc96",
           "#ab63fa",
           "#FFA15A",
           "#19d3f3",
           "#FF6692",
           "#B6E880",
           "#FF97FF",
           "#FECB52"
          ],
          "font": {
           "color": "#2a3f5f"
          },
          "geo": {
           "bgcolor": "white",
           "lakecolor": "white",
           "landcolor": "#E5ECF6",
           "showlakes": true,
           "showland": true,
           "subunitcolor": "white"
          },
          "hoverlabel": {
           "align": "left"
          },
          "hovermode": "closest",
          "mapbox": {
           "style": "light"
          },
          "paper_bgcolor": "white",
          "plot_bgcolor": "#E5ECF6",
          "polar": {
           "angularaxis": {
            "gridcolor": "white",
            "linecolor": "white",
            "ticks": ""
           },
           "bgcolor": "#E5ECF6",
           "radialaxis": {
            "gridcolor": "white",
            "linecolor": "white",
            "ticks": ""
           }
          },
          "scene": {
           "xaxis": {
            "backgroundcolor": "#E5ECF6",
            "gridcolor": "white",
            "gridwidth": 2,
            "linecolor": "white",
            "showbackground": true,
            "ticks": "",
            "zerolinecolor": "white"
           },
           "yaxis": {
            "backgroundcolor": "#E5ECF6",
            "gridcolor": "white",
            "gridwidth": 2,
            "linecolor": "white",
            "showbackground": true,
            "ticks": "",
            "zerolinecolor": "white"
           },
           "zaxis": {
            "backgroundcolor": "#E5ECF6",
            "gridcolor": "white",
            "gridwidth": 2,
            "linecolor": "white",
            "showbackground": true,
            "ticks": "",
            "zerolinecolor": "white"
           }
          },
          "shapedefaults": {
           "line": {
            "color": "#2a3f5f"
           }
          },
          "ternary": {
           "aaxis": {
            "gridcolor": "white",
            "linecolor": "white",
            "ticks": ""
           },
           "baxis": {
            "gridcolor": "white",
            "linecolor": "white",
            "ticks": ""
           },
           "bgcolor": "#E5ECF6",
           "caxis": {
            "gridcolor": "white",
            "linecolor": "white",
            "ticks": ""
           }
          },
          "title": {
           "x": 0.05
          },
          "xaxis": {
           "automargin": true,
           "gridcolor": "white",
           "linecolor": "white",
           "ticks": "",
           "title": {
            "standoff": 15
           },
           "zerolinecolor": "white",
           "zerolinewidth": 2
          },
          "yaxis": {
           "automargin": true,
           "gridcolor": "white",
           "linecolor": "white",
           "ticks": "",
           "title": {
            "standoff": 15
           },
           "zerolinecolor": "white",
           "zerolinewidth": 2
          }
         }
        },
        "xaxis": {
         "anchor": "y",
         "domain": [
          0,
          1
         ],
         "title": {
          "text": "Index"
         }
        },
        "yaxis": {
         "anchor": "x",
         "domain": [
          0,
          1
         ],
         "title": {
          "text": "value"
         }
        }
       }
      }
     },
     "metadata": {},
     "output_type": "display_data"
    },
    {
     "data": {
      "text/plain": [
       "array([ 9.999,  7.493,  6.122, 13.456, 16.547,  9.04 ,  9.279,  9.999,\n",
       "        7.493,  6.122, 13.456, 16.547,  9.04 ,  9.279,  9.999,  7.493])"
      ]
     },
     "execution_count": 67,
     "metadata": {},
     "output_type": "execute_result"
    }
   ],
   "source": [
    "predict_plot_series_year(serie, plot=True)"
   ]
  },
  {
   "cell_type": "markdown",
   "metadata": {},
   "source": [
    "The test data ranges from 16/08/2017 to 31/08/2017, that is, the function `predict_plot_series_year` already returns the forecast based on the average"
   ]
  },
  {
   "cell_type": "code",
   "execution_count": 68,
   "metadata": {},
   "outputs": [
    {
     "data": {
      "text/html": [
       "<div>\n",
       "<style scoped>\n",
       "    .dataframe tbody tr th:only-of-type {\n",
       "        vertical-align: middle;\n",
       "    }\n",
       "\n",
       "    .dataframe tbody tr th {\n",
       "        vertical-align: top;\n",
       "    }\n",
       "\n",
       "    .dataframe thead th {\n",
       "        text-align: right;\n",
       "    }\n",
       "</style>\n",
       "<table border=\"1\" class=\"dataframe\">\n",
       "  <thead>\n",
       "    <tr style=\"text-align: right;\">\n",
       "      <th></th>\n",
       "      <th>id</th>\n",
       "      <th>date</th>\n",
       "      <th>store_nbr</th>\n",
       "      <th>family</th>\n",
       "      <th>sales</th>\n",
       "      <th>onpromotion</th>\n",
       "    </tr>\n",
       "  </thead>\n",
       "  <tbody>\n",
       "    <tr>\n",
       "      <th>0</th>\n",
       "      <td>98</td>\n",
       "      <td>2013-01-01</td>\n",
       "      <td>11</td>\n",
       "      <td>SEAFOOD</td>\n",
       "      <td>0.0</td>\n",
       "      <td>0</td>\n",
       "    </tr>\n",
       "    <tr>\n",
       "      <th>1</th>\n",
       "      <td>1880</td>\n",
       "      <td>2013-01-02</td>\n",
       "      <td>11</td>\n",
       "      <td>SEAFOOD</td>\n",
       "      <td>5.0</td>\n",
       "      <td>0</td>\n",
       "    </tr>\n",
       "    <tr>\n",
       "      <th>2</th>\n",
       "      <td>3662</td>\n",
       "      <td>2013-01-03</td>\n",
       "      <td>11</td>\n",
       "      <td>SEAFOOD</td>\n",
       "      <td>12.0</td>\n",
       "      <td>0</td>\n",
       "    </tr>\n",
       "    <tr>\n",
       "      <th>3</th>\n",
       "      <td>5444</td>\n",
       "      <td>2013-01-04</td>\n",
       "      <td>11</td>\n",
       "      <td>SEAFOOD</td>\n",
       "      <td>2.0</td>\n",
       "      <td>0</td>\n",
       "    </tr>\n",
       "    <tr>\n",
       "      <th>4</th>\n",
       "      <td>7226</td>\n",
       "      <td>2013-01-05</td>\n",
       "      <td>11</td>\n",
       "      <td>SEAFOOD</td>\n",
       "      <td>3.0</td>\n",
       "      <td>0</td>\n",
       "    </tr>\n",
       "    <tr>\n",
       "      <th>...</th>\n",
       "      <td>...</td>\n",
       "      <td>...</td>\n",
       "      <td>...</td>\n",
       "      <td>...</td>\n",
       "      <td>...</td>\n",
       "      <td>...</td>\n",
       "    </tr>\n",
       "    <tr>\n",
       "      <th>1679</th>\n",
       "      <td>2992076</td>\n",
       "      <td>2017-08-11</td>\n",
       "      <td>11</td>\n",
       "      <td>SEAFOOD</td>\n",
       "      <td>10.0</td>\n",
       "      <td>0</td>\n",
       "    </tr>\n",
       "    <tr>\n",
       "      <th>1680</th>\n",
       "      <td>2993858</td>\n",
       "      <td>2017-08-12</td>\n",
       "      <td>11</td>\n",
       "      <td>SEAFOOD</td>\n",
       "      <td>9.0</td>\n",
       "      <td>3</td>\n",
       "    </tr>\n",
       "    <tr>\n",
       "      <th>1681</th>\n",
       "      <td>2995640</td>\n",
       "      <td>2017-08-13</td>\n",
       "      <td>11</td>\n",
       "      <td>SEAFOOD</td>\n",
       "      <td>10.0</td>\n",
       "      <td>0</td>\n",
       "    </tr>\n",
       "    <tr>\n",
       "      <th>1682</th>\n",
       "      <td>2997422</td>\n",
       "      <td>2017-08-14</td>\n",
       "      <td>11</td>\n",
       "      <td>SEAFOOD</td>\n",
       "      <td>3.0</td>\n",
       "      <td>0</td>\n",
       "    </tr>\n",
       "    <tr>\n",
       "      <th>1683</th>\n",
       "      <td>2999204</td>\n",
       "      <td>2017-08-15</td>\n",
       "      <td>11</td>\n",
       "      <td>SEAFOOD</td>\n",
       "      <td>3.0</td>\n",
       "      <td>0</td>\n",
       "    </tr>\n",
       "  </tbody>\n",
       "</table>\n",
       "<p>1684 rows × 6 columns</p>\n",
       "</div>"
      ],
      "text/plain": [
       "           id       date  store_nbr   family  sales  onpromotion\n",
       "0          98 2013-01-01         11  SEAFOOD    0.0            0\n",
       "1        1880 2013-01-02         11  SEAFOOD    5.0            0\n",
       "2        3662 2013-01-03         11  SEAFOOD   12.0            0\n",
       "3        5444 2013-01-04         11  SEAFOOD    2.0            0\n",
       "4        7226 2013-01-05         11  SEAFOOD    3.0            0\n",
       "...       ...        ...        ...      ...    ...          ...\n",
       "1679  2992076 2017-08-11         11  SEAFOOD   10.0            0\n",
       "1680  2993858 2017-08-12         11  SEAFOOD    9.0            3\n",
       "1681  2995640 2017-08-13         11  SEAFOOD   10.0            0\n",
       "1682  2997422 2017-08-14         11  SEAFOOD    3.0            0\n",
       "1683  2999204 2017-08-15         11  SEAFOOD    3.0            0\n",
       "\n",
       "[1684 rows x 6 columns]"
      ]
     },
     "execution_count": 68,
     "metadata": {},
     "output_type": "execute_result"
    }
   ],
   "source": [
    "serie"
   ]
  },
  {
   "cell_type": "code",
   "execution_count": 69,
   "metadata": {},
   "outputs": [],
   "source": [
    "train = pd.DataFrame({'ds': serie['date'], 'y': serie['sales'], 'unique_id': serie['family']})"
   ]
  },
  {
   "cell_type": "code",
   "execution_count": 70,
   "metadata": {},
   "outputs": [],
   "source": [
    "test = pd.read_csv('./test.csv')\n",
    "dataset = test.copy()"
   ]
  },
  {
   "cell_type": "code",
   "execution_count": 71,
   "metadata": {},
   "outputs": [],
   "source": [
    "def pred_series(loja, family):\n",
    "    serie_tmp = extract_series(loja, family)\n",
    "    id_tmp = dataset[(dataset['store_nbr']==loja) & (dataset['family']==family)]['id']\n",
    "    predict = predict_plot_series_year(serie_tmp)\n",
    "    result_df = pd.DataFrame({'id': id_tmp, 'sales': predict})\n",
    "    \n",
    "    return result_df\n",
    "    "
   ]
  },
  {
   "cell_type": "code",
   "execution_count": 72,
   "metadata": {},
   "outputs": [],
   "source": [
    "stores = test['store_nbr'].unique()\n",
    "products = test['family'].unique()"
   ]
  },
  {
   "cell_type": "code",
   "execution_count": 73,
   "metadata": {},
   "outputs": [],
   "source": [
    "predict = pd.DataFrame({'id': [], 'sales':[]})\n",
    "for store in stores:\n",
    "    for product in products:\n",
    "        tmp = pred_series(store, product)\n",
    "        predict=pd.concat([predict, tmp], axis=0)"
   ]
  },
  {
   "cell_type": "code",
   "execution_count": 74,
   "metadata": {},
   "outputs": [],
   "source": [
    "predict['id'] = predict['id'].astype(int)"
   ]
  },
  {
   "cell_type": "code",
   "execution_count": 75,
   "metadata": {},
   "outputs": [
    {
     "data": {
      "text/html": [
       "<div>\n",
       "<style scoped>\n",
       "    .dataframe tbody tr th:only-of-type {\n",
       "        vertical-align: middle;\n",
       "    }\n",
       "\n",
       "    .dataframe tbody tr th {\n",
       "        vertical-align: top;\n",
       "    }\n",
       "\n",
       "    .dataframe thead th {\n",
       "        text-align: right;\n",
       "    }\n",
       "</style>\n",
       "<table border=\"1\" class=\"dataframe\">\n",
       "  <thead>\n",
       "    <tr style=\"text-align: right;\">\n",
       "      <th></th>\n",
       "      <th>id</th>\n",
       "      <th>sales</th>\n",
       "    </tr>\n",
       "  </thead>\n",
       "  <tbody>\n",
       "    <tr>\n",
       "      <th>0</th>\n",
       "      <td>3000888</td>\n",
       "      <td>4.131</td>\n",
       "    </tr>\n",
       "    <tr>\n",
       "      <th>1782</th>\n",
       "      <td>3002670</td>\n",
       "      <td>4.032</td>\n",
       "    </tr>\n",
       "    <tr>\n",
       "      <th>3564</th>\n",
       "      <td>3004452</td>\n",
       "      <td>6.722</td>\n",
       "    </tr>\n",
       "    <tr>\n",
       "      <th>5346</th>\n",
       "      <td>3006234</td>\n",
       "      <td>5.348</td>\n",
       "    </tr>\n",
       "    <tr>\n",
       "      <th>7128</th>\n",
       "      <td>3008016</td>\n",
       "      <td>2.179</td>\n",
       "    </tr>\n",
       "    <tr>\n",
       "      <th>...</th>\n",
       "      <td>...</td>\n",
       "      <td>...</td>\n",
       "    </tr>\n",
       "    <tr>\n",
       "      <th>21383</th>\n",
       "      <td>3022271</td>\n",
       "      <td>25.657</td>\n",
       "    </tr>\n",
       "    <tr>\n",
       "      <th>23165</th>\n",
       "      <td>3024053</td>\n",
       "      <td>17.754</td>\n",
       "    </tr>\n",
       "    <tr>\n",
       "      <th>24947</th>\n",
       "      <td>3025835</td>\n",
       "      <td>15.353</td>\n",
       "    </tr>\n",
       "    <tr>\n",
       "      <th>26729</th>\n",
       "      <td>3027617</td>\n",
       "      <td>14.660</td>\n",
       "    </tr>\n",
       "    <tr>\n",
       "      <th>28511</th>\n",
       "      <td>3029399</td>\n",
       "      <td>15.070</td>\n",
       "    </tr>\n",
       "  </tbody>\n",
       "</table>\n",
       "<p>28512 rows × 2 columns</p>\n",
       "</div>"
      ],
      "text/plain": [
       "            id   sales\n",
       "0      3000888   4.131\n",
       "1782   3002670   4.032\n",
       "3564   3004452   6.722\n",
       "5346   3006234   5.348\n",
       "7128   3008016   2.179\n",
       "...        ...     ...\n",
       "21383  3022271  25.657\n",
       "23165  3024053  17.754\n",
       "24947  3025835  15.353\n",
       "26729  3027617  14.660\n",
       "28511  3029399  15.070\n",
       "\n",
       "[28512 rows x 2 columns]"
      ]
     },
     "execution_count": 75,
     "metadata": {},
     "output_type": "execute_result"
    }
   ],
   "source": [
    "predict"
   ]
  },
  {
   "cell_type": "code",
   "execution_count": 76,
   "metadata": {},
   "outputs": [],
   "source": [
    "predict = predict.sort_values(by='id')"
   ]
  },
  {
   "cell_type": "code",
   "execution_count": 77,
   "metadata": {},
   "outputs": [],
   "source": [
    "predict.to_csv('./submission.csv', index=False)"
   ]
  }
 ],
 "metadata": {
  "kernelspec": {
   "display_name": "Python 3",
   "language": "python",
   "name": "python3"
  },
  "language_info": {
   "codemirror_mode": {
    "name": "ipython",
    "version": 3
   },
   "file_extension": ".py",
   "mimetype": "text/x-python",
   "name": "python",
   "nbconvert_exporter": "python",
   "pygments_lexer": "ipython3",
   "version": "3.11.4"
  }
 },
 "nbformat": 4,
 "nbformat_minor": 2
}
